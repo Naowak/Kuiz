{
 "cells": [
  {
   "cell_type": "markdown",
   "metadata": {},
   "source": [
    "### Retrieve portal links"
   ]
  },
  {
   "cell_type": "code",
   "execution_count": null,
   "metadata": {},
   "outputs": [],
   "source": [
    "import requests\n",
    "from bs4 import BeautifulSoup\n",
    "\n",
    "portail_link = \"https://fr.wikipedia.org/wiki/Portail:Accueil\"\n",
    "response = requests.get(portail_link)\n",
    "soup = BeautifulSoup(response.text, \"html.parser\")\n",
    "soup.encode('utf-8')\n",
    "\n",
    "# Get the Portail links\n",
    "pattern = \"/wiki/Portail:\"\n",
    "portail_links = []\n",
    "for match in soup.find_all(\"a\"):\n",
    "    if match.get(\"href\") and pattern in match.get(\"href\"):\n",
    "        link = match.get(\"href\")\n",
    "        name = link.split(\":\")[1]\n",
    "        portail_links.append({\"name\": name, \"link\": link})\n",
    "\n",
    "# Remove Accueil from the list\n",
    "portail_links = portail_links[6:]"
   ]
  },
  {
   "cell_type": "markdown",
   "metadata": {},
   "source": [
    "### Prepare usefull functions"
   ]
  },
  {
   "cell_type": "code",
   "execution_count": 1,
   "metadata": {},
   "outputs": [],
   "source": [
    "import requests\n",
    "import dotenv\n",
    "import os\n",
    "import json\n",
    "import re\n",
    "dotenv.load_dotenv()\n",
    "\n",
    "# Define Constants\n",
    "OPENROUTER_API_KEY = os.getenv('OPENROUTER_API_KEY')\n",
    "# MODEL = \"deepseek/deepseek-chat\"\n",
    "MODEL = \"google/gemini-2.0-flash-001\"\n",
    "PROMPT_FILE = \"prompt_category.md\"\n",
    "\n",
    "# Define request function\n",
    "def request_llm(article, category):\n",
    "    # Load prompt & add article\n",
    "    with open(PROMPT_FILE, 'r') as f:\n",
    "        prompt = f.read()\n",
    "        prompt = prompt.replace('{wikipedia_article}', article)\n",
    "        prompt = prompt.replace('{question_category}', category)\n",
    "    \n",
    "    # Request\n",
    "    try :\n",
    "      response = requests.post(\n",
    "        url=\"https://openrouter.ai/api/v1/chat/completions\",\n",
    "        headers={\n",
    "          \"Authorization\": f\"Bearer {OPENROUTER_API_KEY}\",\n",
    "        },\n",
    "        data=json.dumps({\n",
    "          \"model\": MODEL,\n",
    "          \"messages\": [{\"role\": \"user\", \"content\": prompt}],\n",
    "        })\n",
    "      )\n",
    "\n",
    "    # Handle request error\n",
    "    except Exception as e:\n",
    "      print(f\"Error: {e}\")\n",
    "      return None\n",
    "    \n",
    "    # Check response\n",
    "    if response.status_code != 200:\n",
    "      print(f\"Error: {response.json()}\")\n",
    "      return None\n",
    "    \n",
    "    return response.json()['choices'][0]['message']['content'] # C'est possible de parraléliser les requetes\n",
    "\n",
    "# Define function to extract json objects\n",
    "def extract_json(answer):\n",
    "    pattern = r'```json\\n(.*?)\\n```'\n",
    "    matches = re.findall(pattern, answer, re.DOTALL)\n",
    "    objects = [eval(m.replace('null', 'None').replace('true', 'True')) for m in matches] \n",
    "    return objects[0]\n"
   ]
  },
  {
   "cell_type": "markdown",
   "metadata": {},
   "source": [
    "### Make QA "
   ]
  },
  {
   "cell_type": "code",
   "execution_count": 2,
   "metadata": {},
   "outputs": [
    {
     "name": "stdout",
     "output_type": "stream",
     "text": [
      "Thematic: Histoire & Géographie\n"
     ]
    },
    {
     "name": "stderr",
     "output_type": "stream",
     "text": [
      "100%|██████████| 1/1 [00:13<00:00, 13.26s/it]\n"
     ]
    },
    {
     "name": "stdout",
     "output_type": "stream",
     "text": [
      "Thematic: Politique & Religion\n"
     ]
    },
    {
     "name": "stderr",
     "output_type": "stream",
     "text": [
      "100%|██████████| 1/1 [00:11<00:00, 11.05s/it]\n"
     ]
    },
    {
     "name": "stdout",
     "output_type": "stream",
     "text": [
      "Thematic: Sport & Loisirs\n"
     ]
    },
    {
     "name": "stderr",
     "output_type": "stream",
     "text": [
      "100%|██████████| 1/1 [00:09<00:00,  9.73s/it]\n"
     ]
    },
    {
     "name": "stdout",
     "output_type": "stream",
     "text": [
      "Thematic: Sciences & Technologie\n"
     ]
    },
    {
     "name": "stderr",
     "output_type": "stream",
     "text": [
      "100%|██████████| 1/1 [00:12<00:00, 12.17s/it]\n"
     ]
    },
    {
     "name": "stdout",
     "output_type": "stream",
     "text": [
      "Thematic: Art & Culture\n"
     ]
    },
    {
     "name": "stderr",
     "output_type": "stream",
     "text": [
      "100%|██████████| 1/1 [00:10<00:00, 10.50s/it]\n"
     ]
    },
    {
     "name": "stdout",
     "output_type": "stream",
     "text": [
      "Thematic: Société & Economie\n"
     ]
    },
    {
     "name": "stderr",
     "output_type": "stream",
     "text": [
      "100%|██████████| 1/1 [00:10<00:00, 10.06s/it]"
     ]
    },
    {
     "name": "stdout",
     "output_type": "stream",
     "text": [
      "72 questions generated\n"
     ]
    },
    {
     "name": "stderr",
     "output_type": "stream",
     "text": [
      "\n"
     ]
    }
   ],
   "source": [
    "import json\n",
    "from tqdm import tqdm\n",
    "import requests\n",
    "from bs4 import BeautifulSoup\n",
    "\n",
    "NB_REQUESTS = 1\n",
    "\n",
    "\n",
    "# Load data\n",
    "with open('sujet_thematic.json', 'r', encoding='utf-8') as f:\n",
    "    data = json.load(f)\n",
    "\n",
    "# Load progress\n",
    "try:\n",
    "    with open('progress.json', 'r', encoding='utf-8') as f:\n",
    "        progress = json.load(f)\n",
    "# If no progress file, create one\n",
    "except:\n",
    "    progress = {k:list(range(len(v))) for k,v in data.items()}\n",
    "\n",
    "# Load QA\n",
    "try:\n",
    "    with open('qa.json', 'r', encoding='utf-8') as f:\n",
    "        qa = json.load(f)\n",
    "# If no QA file, create one\n",
    "except:\n",
    "    qa = []\n",
    "\n",
    "# For each thematic\n",
    "for thematic in data.keys():\n",
    "\n",
    "    print(f\"Thematic: {thematic}\")\n",
    "\n",
    "    # Make requests\n",
    "    for i in tqdm(range(NB_REQUESTS)):\n",
    "        \n",
    "        # If no more articles, break\n",
    "        if len(progress[thematic]) == 0:\n",
    "            break\n",
    "        \n",
    "        try:\n",
    "            # Try to get article page\n",
    "            index = progress[thematic][i]\n",
    "            link = \"/wiki/\" + data[thematic][index]\n",
    "            page = requests.get(\"https://fr.wikipedia.org\" + link)\n",
    "            \n",
    "            # If not possible, get the portail page\n",
    "            if page.status_code != 200:\n",
    "                link = \"/wiki/Portail:\" + data[thematic][index]\n",
    "                page = requests.get(\"https://fr.wikipedia.org\" + link)\n",
    "\n",
    "            # Get text\n",
    "            page.encoding = 'utf-8'\n",
    "            soup = BeautifulSoup(page.text, \"html.parser\")\n",
    "            text = soup.get_text()\n",
    "\n",
    "            # Request LLM\n",
    "            answer = request_llm(text, thematic)\n",
    "\n",
    "            # Extract JSON objects\n",
    "            objects = extract_json(answer)\n",
    "            for o in objects:\n",
    "                o['category'] = thematic\n",
    "                o['source'] = link\n",
    "                o['source_name'] = data[thematic][index]\n",
    "            \n",
    "            # Add to QA\n",
    "            qa = [*qa, *objects]\n",
    "            \n",
    "            # Save progress\n",
    "            progress[thematic].remove(index)\n",
    "            with open('progress.json', 'w+', encoding='utf-8') as f:\n",
    "                json.dump(progress, f, ensure_ascii=False, indent=2)\n",
    "            \n",
    "            # Save QA\n",
    "            with open('qa.json', 'w+', encoding='utf-8') as f:\n",
    "                json.dump(qa, f, ensure_ascii=False, indent=2)\n",
    "        \n",
    "        except Exception as e:\n",
    "            print(f\"Error: {e}\")\n",
    "            continue\n",
    "\n",
    "\n",
    "print('{} questions generated'.format(len(qa)))"
   ]
  },
  {
   "cell_type": "code",
   "execution_count": null,
   "metadata": {},
   "outputs": [],
   "source": []
  }
 ],
 "metadata": {
  "kernelspec": {
   "display_name": "kuiz_venv",
   "language": "python",
   "name": "python3"
  },
  "language_info": {
   "codemirror_mode": {
    "name": "ipython",
    "version": 3
   },
   "file_extension": ".py",
   "mimetype": "text/x-python",
   "name": "python",
   "nbconvert_exporter": "python",
   "pygments_lexer": "ipython3",
   "version": "3.11.6"
  }
 },
 "nbformat": 4,
 "nbformat_minor": 2
}

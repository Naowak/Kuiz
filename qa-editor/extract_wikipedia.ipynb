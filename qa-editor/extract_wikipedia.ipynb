{
 "cells": [
  {
   "cell_type": "markdown",
   "metadata": {},
   "source": [
    "# Create Q/A from Wikipédia"
   ]
  },
  {
   "cell_type": "markdown",
   "metadata": {},
   "source": [
    "### Retrieve portal links"
   ]
  },
  {
   "cell_type": "code",
   "execution_count": 1,
   "metadata": {},
   "outputs": [],
   "source": [
    "import requests\n",
    "from bs4 import BeautifulSoup\n",
    "\n",
    "portail_link = \"https://fr.wikipedia.org/wiki/Portail:Accueil\"\n",
    "response = requests.get(portail_link)\n",
    "soup = BeautifulSoup(response.text, \"html.parser\")\n",
    "soup.encode('utf-8')\n",
    "\n",
    "# Get the Portail links\n",
    "pattern = \"/wiki/Portail:\"\n",
    "portail_links = []\n",
    "for match in soup.find_all(\"a\"):\n",
    "    if match.get(\"href\") and pattern in match.get(\"href\"):\n",
    "        link = match.get(\"href\")\n",
    "        name = link.split(\":\")[1]\n",
    "        portail_links.append({\"name\": name, \"link\": link})\n",
    "\n",
    "# Remove Accueil from the list\n",
    "portail_links = portail_links[6:]"
   ]
  },
  {
   "cell_type": "markdown",
   "metadata": {},
   "source": [
    "### Prepare usefull functions"
   ]
  },
  {
   "cell_type": "code",
   "execution_count": 2,
   "metadata": {},
   "outputs": [],
   "source": [
    "import requests\n",
    "import dotenv\n",
    "import os\n",
    "import json\n",
    "import re\n",
    "dotenv.load_dotenv()\n",
    "\n",
    "# Define Constants\n",
    "OPENROUTER_API_KEY = os.getenv('OPENROUTER_API_KEY')\n",
    "MODEL = \"deepseek/deepseek-chat\"\n",
    "PROMPT_FILE = \"prompt.txt\"\n",
    "\n",
    "# Define request function\n",
    "def request_llm(article):\n",
    "    # Load prompt & add article\n",
    "    with open(PROMPT_FILE, 'r') as f:\n",
    "        prompt = f.read()\n",
    "        prompt = prompt.replace('wikipedia_article', article)\n",
    "    \n",
    "    # Request\n",
    "    try :\n",
    "      response = requests.post(\n",
    "        url=\"https://openrouter.ai/api/v1/chat/completions\",\n",
    "        headers={\n",
    "          \"Authorization\": f\"Bearer {OPENROUTER_API_KEY}\",\n",
    "        },\n",
    "        data=json.dumps({\n",
    "          \"model\": MODEL,\n",
    "          \"messages\": [{\"role\": \"user\", \"content\": prompt}],\n",
    "        })\n",
    "      )\n",
    "\n",
    "    # Handle request error\n",
    "    except Exception as e:\n",
    "      print(f\"Error: {e}\")\n",
    "      return None\n",
    "    \n",
    "    # Check response\n",
    "    if response.status_code != 200:\n",
    "      print(f\"Error: {response.json()}\")\n",
    "      return None\n",
    "    \n",
    "    return response.json()['choices'][0]['message']['content'] # C'est possible de parraléliser les requetes\n",
    "\n",
    "# Define function to extract json objects\n",
    "def extract_json(answer):\n",
    "    pattern = r'```json\\n(.*?)\\n```'\n",
    "    matches = re.findall(pattern, answer, re.DOTALL)\n",
    "    objects = [eval(m.replace('null', 'None').replace('true', 'True')) for m in matches] \n",
    "    return objects[0]\n"
   ]
  },
  {
   "cell_type": "markdown",
   "metadata": {},
   "source": [
    "### Initialize progress"
   ]
  },
  {
   "cell_type": "code",
   "execution_count": 3,
   "metadata": {},
   "outputs": [],
   "source": [
    "# Save file\n",
    "def save_progress(portail_links, index_left):\n",
    "    with open('progress.json', 'w', encoding='utf-8') as f:\n",
    "        json.dump({\"portail_links\": portail_links, \"index\": index_left}, f, ensure_ascii=False, indent=2)\n",
    "\n",
    "def load_progress():\n",
    "    with open('progress.json', 'r', encoding='utf-8') as f:\n",
    "        return json.load(f) \n",
    "\n",
    "def save_qa(qa):\n",
    "    with open('qa.json', 'w', encoding='utf-8') as f:\n",
    "        json.dump(qa, f, ensure_ascii=False, indent=2)\n",
    "\n",
    "def load_qa():\n",
    "    try:\n",
    "        with open('qa.json', 'r', encoding='utf-8') as f:\n",
    "            return json.load(f)\n",
    "    except:\n",
    "        return {}\n",
    "\n",
    "save_progress(portail_links, list(range(len(portail_links))))\n",
    "save_qa([])"
   ]
  },
  {
   "cell_type": "markdown",
   "metadata": {},
   "source": [
    "### Make QA"
   ]
  },
  {
   "cell_type": "code",
   "execution_count": 8,
   "metadata": {},
   "outputs": [
    {
     "name": "stderr",
     "output_type": "stream",
     "text": [
      " 13%|█▎        | 20/150 [10:12<1:47:08, 49.45s/it]"
     ]
    },
    {
     "name": "stdout",
     "output_type": "stream",
     "text": [
      "Error: list index out of range\n"
     ]
    },
    {
     "name": "stderr",
     "output_type": "stream",
     "text": [
      " 19%|█▊        | 28/150 [18:01<2:36:38, 77.04s/it]"
     ]
    },
    {
     "name": "stdout",
     "output_type": "stream",
     "text": [
      "Error: 'str' object does not support item assignment\n"
     ]
    },
    {
     "name": "stderr",
     "output_type": "stream",
     "text": [
      " 22%|██▏       | 33/150 [20:15<1:17:06, 39.55s/it]"
     ]
    },
    {
     "name": "stdout",
     "output_type": "stream",
     "text": [
      "Error: list index out of range\n"
     ]
    },
    {
     "name": "stderr",
     "output_type": "stream",
     "text": [
      " 29%|██▉       | 44/150 [25:22<1:12:23, 40.98s/it]"
     ]
    },
    {
     "name": "stdout",
     "output_type": "stream",
     "text": [
      "Error: list index out of range\n"
     ]
    },
    {
     "name": "stderr",
     "output_type": "stream",
     "text": [
      " 35%|███▍      | 52/150 [28:09<32:59, 20.19s/it]  "
     ]
    },
    {
     "name": "stdout",
     "output_type": "stream",
     "text": [
      "Error: 'choices'\n"
     ]
    },
    {
     "name": "stderr",
     "output_type": "stream",
     "text": [
      " 48%|████▊     | 72/150 [38:48<1:06:34, 51.22s/it]"
     ]
    },
    {
     "name": "stdout",
     "output_type": "stream",
     "text": [
      "Error: 'str' object does not support item assignment\n"
     ]
    },
    {
     "name": "stderr",
     "output_type": "stream",
     "text": [
      " 64%|██████▍   | 96/150 [51:38<42:22, 47.08s/it]  "
     ]
    },
    {
     "name": "stdout",
     "output_type": "stream",
     "text": [
      "Error: 'choices'\n"
     ]
    },
    {
     "name": "stderr",
     "output_type": "stream",
     "text": [
      " 66%|██████▌   | 99/150 [52:33<23:12, 27.30s/it]"
     ]
    },
    {
     "name": "stdout",
     "output_type": "stream",
     "text": [
      "Error: 'choices'\n"
     ]
    },
    {
     "name": "stderr",
     "output_type": "stream",
     "text": [
      " 74%|███████▍  | 111/150 [59:52<31:03, 47.78s/it]"
     ]
    },
    {
     "name": "stdout",
     "output_type": "stream",
     "text": [
      "Error: 'str' object does not support item assignment\n"
     ]
    },
    {
     "name": "stderr",
     "output_type": "stream",
     "text": [
      "100%|██████████| 150/150 [1:16:42<00:00, 30.69s/it]"
     ]
    },
    {
     "name": "stdout",
     "output_type": "stream",
     "text": [
      "2870 questions generated\n",
      "Subject left: 1499\n"
     ]
    },
    {
     "name": "stderr",
     "output_type": "stream",
     "text": [
      "\n"
     ]
    }
   ],
   "source": [
    "import random\n",
    "from tqdm import tqdm\n",
    "\n",
    "NB_REQUESTS = 150\n",
    "\n",
    "# Load progress\n",
    "progress = load_progress()\n",
    "portail_links = progress[\"portail_links\"]\n",
    "index_left = progress[\"index\"]\n",
    "\n",
    "# Load QA\n",
    "qa = load_qa()\n",
    "\n",
    "# Call the LLM for each Portail\n",
    "for _ in tqdm(range(NB_REQUESTS)):\n",
    "    try:\n",
    "        # Select a random portail\n",
    "        index = random.choice(index_left)\n",
    "        index_left.remove(index)\n",
    "        p = portail_links[index]\n",
    "\n",
    "        # Request LLM\n",
    "        page = requests.get(\"https://fr.wikipedia.org\" + p[\"link\"])\n",
    "        page.encoding = 'utf-8'\n",
    "        soup = BeautifulSoup(page.text, \"html.parser\")\n",
    "        text = soup.get_text()\n",
    "        answer = request_llm(text)\n",
    "\n",
    "        # Extract JSON objects\n",
    "        objects = extract_json(answer)\n",
    "        for o in objects:\n",
    "            o['source'] = p['link']\n",
    "            o['source_name'] = p['name']\n",
    "        \n",
    "        # Add to QA\n",
    "        qa = [*qa, *objects]\n",
    "        \n",
    "        # Save progress\n",
    "        save_progress(portail_links, index_left)\n",
    "        save_qa(qa)\n",
    "    \n",
    "    except Exception as e:\n",
    "        print(f\"Error: {e}\")\n",
    "        continue\n",
    "\n",
    "\n",
    "print('{} questions generated'.format(len(qa)))\n",
    "print('Subject left: {}'.format(len(index_left)))"
   ]
  },
  {
   "cell_type": "code",
   "execution_count": 6,
   "metadata": {},
   "outputs": [],
   "source": [
    "import json\n",
    "\n",
    "with open('qa.json', 'r', encoding='utf-8') as f:\n",
    "    data = json.load(f)\n",
    "    data"
   ]
  },
  {
   "cell_type": "code",
   "execution_count": null,
   "metadata": {},
   "outputs": [],
   "source": []
  }
 ],
 "metadata": {
  "kernelspec": {
   "display_name": "kuiz_venv",
   "language": "python",
   "name": "python3"
  },
  "language_info": {
   "codemirror_mode": {
    "name": "ipython",
    "version": 3
   },
   "file_extension": ".py",
   "mimetype": "text/x-python",
   "name": "python",
   "nbconvert_exporter": "python",
   "pygments_lexer": "ipython3",
   "version": "3.11.6"
  }
 },
 "nbformat": 4,
 "nbformat_minor": 2
}
